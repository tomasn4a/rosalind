{
 "cells": [
  {
   "cell_type": "markdown",
   "metadata": {},
   "source": [
    "# Complementing a Strand of DNA\n",
    "\n",
    "## Problem\n",
    "\n",
    "In DNA strings, symbols 'A' and 'T' are complements of each other, as are 'C' and 'G'.\n",
    "\n",
    "The reverse complement of a DNA string ss is the string scsc formed by reversing the symbols of ss, then taking the complement of each symbol (e.g., the reverse complement of \"GTCA\" is \"TGAC\").\n",
    "\n",
    "_Given_: A DNA string ss of length at most 1000 bp.\n",
    "\n",
    "_Return_: The reverse complement scsc of ss.\n",
    "\n",
    "**Sample Dataset**\n",
    "\n",
    "    AAAACCCGGT\n",
    "    \n",
    "**Sample Output**\n",
    "\n",
    "    ACCGGGTTTT\n",
    "\n",
    "__________________"
   ]
  },
  {
   "cell_type": "markdown",
   "metadata": {},
   "source": [
    "## Solution\n",
    "\n",
    "In the previous notebook we looked at Python's built-in 'replace' method, which can be used to find and replace 'T's for 'U's. But 'replace' can only do one character at a time. We will look at a few different ways we can compute complements including using a simple loop, and a dictionary, and multiple 'replace' methods with dummy characters, paying particular attention to the tradeoff between time and space complexity. In this notebook we will explore how to reverse a list, both in place and creating a copy of the original string. We will also explore another Biopython Seq method which directly computes the reverse complement.\n",
    "\n",
    "We start by looking at how to compute complements with a simple loop. Note that strings are different than lists in that strings do not support direct assignment. In lists we can modify the item in the ith position with the simple assignment list[i] = new_value. Strings do not support this kind of assignment so if we are going to use a loop we need to create a new string:"
   ]
  },
  {
   "cell_type": "code",
   "execution_count": 6,
   "metadata": {
    "collapsed": false
   },
   "outputs": [
    {
     "name": "stdout",
     "output_type": "stream",
     "text": [
      "TTTTGGGCCA\n"
     ]
    }
   ],
   "source": [
    "sample = 'AAAACCCGGT'\n",
    "\n",
    "def complement_loop(some_string):\n",
    "    complement = ''\n",
    "    for i in range(len(some_string)):\n",
    "        if some_string[i] == 'A':\n",
    "            complement += 'T'\n",
    "        elif some_string[i] == 'C':\n",
    "            complement += 'G'\n",
    "        elif some_string[i] == 'G':\n",
    "            complement += 'C'\n",
    "        else:\n",
    "            complement += 'A'\n",
    "    return complement\n",
    "\n",
    "print(complement_loop(sample))"
   ]
  },
  {
   "cell_type": "markdown",
   "metadata": {},
   "source": [
    "This simple approach has a time complexity of _O_(N). Note, however than if we wanted to generalize this function, the time complexity would be _O_(N\\*k), _k_ being the number of comparisons we make inside the loop! The space complexity of this approach is also _O_(N) since we need to create a new string containing the complement.\n",
    "\n",
    "Another approach that uses _O_(N) space but that can be significantly faster if performing multiple comparisons inside the loop is to first codify the replacements in a dictionary. Since looking up a dictionary takes _O_(1) time, we have gone down from the general case _O_(N\\*k) down to _O_(N), at the expense of having to store an the dictionary which takes _O_(k)."
   ]
  },
  {
   "cell_type": "code",
   "execution_count": 9,
   "metadata": {
    "collapsed": false
   },
   "outputs": [
    {
     "name": "stdout",
     "output_type": "stream",
     "text": [
      "TTTTGGGCCA\n"
     ]
    }
   ],
   "source": [
    "replacements = {'A':'T', 'C':'G', 'G':'C', 'T':'A'}\n",
    "\n",
    "def complement_dict(some_string, repl_dict):\n",
    "    complement = ''\n",
    "    for i in range(len(some_string)):\n",
    "        complement += repl_dict[some_string[i]]\n",
    "    return complement\n",
    "\n",
    "print(complement_dict(sample, replacements))"
   ]
  },
  {
   "cell_type": "markdown",
   "metadata": {},
   "source": [
    "If time isn't a concern, but you are watching out for space than we can turn back to the 'replace' method. Recall that the 'replace' method takes in a string, and replaces each occurrence of a particular character by another character. We cannot simply chain together 4 replace methods since for whatever we do with when replacing 'A's for 'T's will be undone when we replace 'T's for 'A's, and the same for 'C's and 'G's! There is a clever trick we can do to circumvent this: we can use dummy character. So instead of replacing all 'A's with 'T's we can change them by a dummy character. This adds two more 'replace' calls but it does everything in-place, meaning we do not need to store anything extra:"
   ]
  },
  {
   "cell_type": "code",
   "execution_count": 10,
   "metadata": {
    "collapsed": false
   },
   "outputs": [
    {
     "name": "stdout",
     "output_type": "stream",
     "text": [
      "TTTTGGGCCA\n"
     ]
    }
   ],
   "source": [
    "def complement_replace(some_string):\n",
    "    return some_string.replace('A','+').replace('T','A').replace('+','T')\\\n",
    "                      .replace('C','+').replace('G','C').replace('+','G')\n",
    "    \n",
    "print(complement_replace(sample))"
   ]
  },
  {
   "cell_type": "markdown",
   "metadata": {},
   "source": [
    "So now that we have the complement, how can we reverse it? A very _pythonic_ way of reversing a string is to use extended slicing techniques. The basic slicing structure is string[begin:end:step] so, by using a step of -1 and leaving 'begin' and 'end' empty (meaning we consider the whole string) we get a reversed string. Let's test it out on the sample string:"
   ]
  },
  {
   "cell_type": "code",
   "execution_count": 13,
   "metadata": {
    "collapsed": false
   },
   "outputs": [
    {
     "name": "stdout",
     "output_type": "stream",
     "text": [
      "TGGCCCAAAA\n"
     ]
    }
   ],
   "source": [
    "print(sample[::-1])"
   ]
  },
  {
   "cell_type": "markdown",
   "metadata": {},
   "source": [
    "So now that we have a method for computing the complement and that we know how to reverse a string, we can simply combine them in a function. We will use the 'complement_dict' method:"
   ]
  },
  {
   "cell_type": "code",
   "execution_count": 14,
   "metadata": {
    "collapsed": false
   },
   "outputs": [
    {
     "name": "stdout",
     "output_type": "stream",
     "text": [
      "ACCGGGTTTT\n"
     ]
    }
   ],
   "source": [
    "replacements = {'A':'T', 'C':'G', 'G':'C', 'T':'A'}\n",
    "\n",
    "def reverse_complement_dict(some_string, repl_dict):\n",
    "    complement = ''\n",
    "    for i in range(len(some_string)):\n",
    "        complement += repl_dict[some_string[i]]\n",
    "    return complement[::-1]\n",
    "\n",
    "print(reverse_complement_dict(sample, replacements))"
   ]
  },
  {
   "cell_type": "markdown",
   "metadata": {},
   "source": [
    "Finally, just like we did on the last notebook we look at Biopython. Remember that Biopython has an object called 'Seq' which stores a string and an alphabet associated with it. Based on what the string represents (DNA, RNA, protein chain) we can perform a series of methods on it. If we associate a DNA alphabet to our string then we can simply use the 'reverse_complement' method. "
   ]
  },
  {
   "cell_type": "code",
   "execution_count": 17,
   "metadata": {
    "collapsed": false
   },
   "outputs": [
    {
     "name": "stdout",
     "output_type": "stream",
     "text": [
      "ACCGGGTTTT\n"
     ]
    }
   ],
   "source": [
    "from Bio.Seq import Seq\n",
    "from Bio.Alphabet import generic_dna\n",
    "\n",
    "dna = Seq(sample, generic_dna)\n",
    "print(dna.reverse_complement())"
   ]
  },
  {
   "cell_type": "markdown",
   "metadata": {},
   "source": [
    "Note that the 'reverse_complement' does not work on all alphabets, it makes no sense to look at the reverse complement of proteins!"
   ]
  },
  {
   "cell_type": "code",
   "execution_count": 18,
   "metadata": {
    "collapsed": false
   },
   "outputs": [
    {
     "ename": "ValueError",
     "evalue": "Proteins do not have complements!",
     "output_type": "error",
     "traceback": [
      "\u001b[0;31m---------------------------------------------------------------------------\u001b[0m",
      "\u001b[0;31mValueError\u001b[0m                                Traceback (most recent call last)",
      "\u001b[0;32m<ipython-input-18-3b63af82432d>\u001b[0m in \u001b[0;36m<module>\u001b[0;34m()\u001b[0m\n\u001b[1;32m      2\u001b[0m \u001b[0;34m\u001b[0m\u001b[0m\n\u001b[1;32m      3\u001b[0m \u001b[0mprots\u001b[0m \u001b[0;34m=\u001b[0m \u001b[0mSeq\u001b[0m\u001b[0;34m(\u001b[0m\u001b[0msample\u001b[0m\u001b[0;34m,\u001b[0m \u001b[0mgeneric_protein\u001b[0m\u001b[0;34m)\u001b[0m\u001b[0;34m\u001b[0m\u001b[0m\n\u001b[0;32m----> 4\u001b[0;31m \u001b[0mprint\u001b[0m\u001b[0;34m(\u001b[0m\u001b[0mprots\u001b[0m\u001b[0;34m.\u001b[0m\u001b[0mreverse_complement\u001b[0m\u001b[0;34m(\u001b[0m\u001b[0;34m)\u001b[0m\u001b[0;34m)\u001b[0m\u001b[0;34m\u001b[0m\u001b[0m\n\u001b[0m",
      "\u001b[0;32m//anaconda/envs/bioinformatics3/lib/python3.5/site-packages/Bio/Seq.py\u001b[0m in \u001b[0;36mreverse_complement\u001b[0;34m(self)\u001b[0m\n\u001b[1;32m    810\u001b[0m         \"\"\"\n\u001b[1;32m    811\u001b[0m         \u001b[0;31m# Use -1 stride/step to reverse the complement\u001b[0m\u001b[0;34m\u001b[0m\u001b[0;34m\u001b[0m\u001b[0m\n\u001b[0;32m--> 812\u001b[0;31m         \u001b[0;32mreturn\u001b[0m \u001b[0mself\u001b[0m\u001b[0;34m.\u001b[0m\u001b[0mcomplement\u001b[0m\u001b[0;34m(\u001b[0m\u001b[0;34m)\u001b[0m\u001b[0;34m[\u001b[0m\u001b[0;34m:\u001b[0m\u001b[0;34m:\u001b[0m\u001b[0;34m-\u001b[0m\u001b[0;36m1\u001b[0m\u001b[0;34m]\u001b[0m\u001b[0;34m\u001b[0m\u001b[0m\n\u001b[0m\u001b[1;32m    813\u001b[0m \u001b[0;34m\u001b[0m\u001b[0m\n\u001b[1;32m    814\u001b[0m     \u001b[0;32mdef\u001b[0m \u001b[0mtranscribe\u001b[0m\u001b[0;34m(\u001b[0m\u001b[0mself\u001b[0m\u001b[0;34m)\u001b[0m\u001b[0;34m:\u001b[0m\u001b[0;34m\u001b[0m\u001b[0m\n",
      "\u001b[0;32m//anaconda/envs/bioinformatics3/lib/python3.5/site-packages/Bio/Seq.py\u001b[0m in \u001b[0;36mcomplement\u001b[0;34m(self)\u001b[0m\n\u001b[1;32m    760\u001b[0m         \u001b[0mbase\u001b[0m \u001b[0;34m=\u001b[0m \u001b[0mAlphabet\u001b[0m\u001b[0;34m.\u001b[0m\u001b[0m_get_base_alphabet\u001b[0m\u001b[0;34m(\u001b[0m\u001b[0mself\u001b[0m\u001b[0;34m.\u001b[0m\u001b[0malphabet\u001b[0m\u001b[0;34m)\u001b[0m\u001b[0;34m\u001b[0m\u001b[0m\n\u001b[1;32m    761\u001b[0m         \u001b[0;32mif\u001b[0m \u001b[0misinstance\u001b[0m\u001b[0;34m(\u001b[0m\u001b[0mbase\u001b[0m\u001b[0;34m,\u001b[0m \u001b[0mAlphabet\u001b[0m\u001b[0;34m.\u001b[0m\u001b[0mProteinAlphabet\u001b[0m\u001b[0;34m)\u001b[0m\u001b[0;34m:\u001b[0m\u001b[0;34m\u001b[0m\u001b[0m\n\u001b[0;32m--> 762\u001b[0;31m             \u001b[0;32mraise\u001b[0m \u001b[0mValueError\u001b[0m\u001b[0;34m(\u001b[0m\u001b[0;34m\"Proteins do not have complements!\"\u001b[0m\u001b[0;34m)\u001b[0m\u001b[0;34m\u001b[0m\u001b[0m\n\u001b[0m\u001b[1;32m    763\u001b[0m         \u001b[0;32mif\u001b[0m \u001b[0misinstance\u001b[0m\u001b[0;34m(\u001b[0m\u001b[0mbase\u001b[0m\u001b[0;34m,\u001b[0m \u001b[0mAlphabet\u001b[0m\u001b[0;34m.\u001b[0m\u001b[0mDNAAlphabet\u001b[0m\u001b[0;34m)\u001b[0m\u001b[0;34m:\u001b[0m\u001b[0;34m\u001b[0m\u001b[0m\n\u001b[1;32m    764\u001b[0m             \u001b[0mttable\u001b[0m \u001b[0;34m=\u001b[0m \u001b[0m_dna_complement_table\u001b[0m\u001b[0;34m\u001b[0m\u001b[0m\n",
      "\u001b[0;31mValueError\u001b[0m: Proteins do not have complements!"
     ]
    }
   ],
   "source": [
    "from Bio.Alphabet import generic_protein\n",
    "\n",
    "prots = Seq(sample, generic_protein)\n",
    "print(prots.reverse_complement())"
   ]
  }
 ],
 "metadata": {
  "kernelspec": {
   "display_name": "Python 3",
   "language": "python",
   "name": "python3"
  },
  "language_info": {
   "codemirror_mode": {
    "name": "ipython",
    "version": 3
   },
   "file_extension": ".py",
   "mimetype": "text/x-python",
   "name": "python",
   "nbconvert_exporter": "python",
   "pygments_lexer": "ipython3",
   "version": "3.5.2"
  }
 },
 "nbformat": 4,
 "nbformat_minor": 0
}
