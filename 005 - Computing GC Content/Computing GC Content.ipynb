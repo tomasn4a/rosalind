{
 "cells": [
  {
   "cell_type": "markdown",
   "metadata": {},
   "source": [
    "# Computing GC Content\n",
    "\n",
    "## Problem\n",
    "\n",
    "The GC-content of a DNA string is given by the percentage of symbols in the string that are 'C' or 'G'. For example, the GC-content of \"AGCTATAG\" is 37.5%. Note that the reverse complement of any DNA string has the same GC-content.\n",
    "\n",
    "DNA strings must be labeled when they are consolidated into a database. A commonly used method of string labeling is called FASTA format. In this format, the string is introduced by a line that begins with '>', followed by some labeling information. Subsequent lines contain the string itself; the first line to begin with '>' indicates the label of the next string.\n",
    "\n",
    "In Rosalind's implementation, a string in FASTA format will be labeled by the ID \"Rosalind_xxxx\", where \"xxxx\" denotes a four-digit code between 0000 and 9999.\n",
    "\n",
    "_Given_: At most 10 DNA strings in FASTA format (of length at most 1 kbp each).\n",
    "\n",
    "_Return_: The ID of the string having the highest GC-content, followed by the GC-content of that string. Rosalind allows for a default error of 0.001 in all decimal answers unless otherwise stated; please see the note on absolute error below.\n",
    "\n",
    "**Sample Dataset**\n",
    "\n",
    "    >Rosalind_6404\n",
    "    CCTGCGGAAGATCGGCACTAGAATAGCCAGAACCGTTTCTCTGAGGCTTCCGGCCTTCCC\n",
    "    TCCCACTAATAATTCTGAGG\n",
    "    >Rosalind_5959\n",
    "    CCATCGGTAGCGCATCCTTAGTCCAATTAAGTCCCTATCCAGGCGCTCCGCCGAAGGTCT\n",
    "    ATATCCATTTGTCAGCAGACACGC\n",
    "    >Rosalind_0808\n",
    "    CCACCCTCGTGGTATGGCTAGGCATTCAGGAACCGGAGAACGCTTCAGACCAGCCCGGAC\n",
    "    TGGGAACCTGCGGGCAGTAGGTGGAAT\n",
    "    \n",
    "**Sample Output**\n",
    "\n",
    "    Rosalind_0808\n",
    "    60.919540\n",
    "\n",
    "**_Note on Absolute Error_**\n",
    "\n",
    "We say that a number $x$ is within an absolute error of $y$ to a correct solution if $x$ is within $y$ of the correct solution. For example, if an exact solution is 6.157892, then for $x$ to be within an absolute error of 0.001, we must have that $|x−6.157892|<0.001$, or $6.156892<x<6.158892$.\n",
    "\n",
    "Error bounding is a vital practical tool because of the inherent round-off error in representing decimals in a computer, where only a finite number of decimal places are allotted to any number. After being compounded over a number of operations, this round-off error can become evident. As a result, rather than testing whether two numbers are equal with $x=z$, you may wish to simply verify that $|x−z|$ is very small.\n",
    "\n",
    "The mathematical field of numerical analysis is devoted to rigorously studying the nature of computational approximation."
   ]
  },
  {
   "cell_type": "markdown",
   "metadata": {},
   "source": [
    "_________________________________\n",
    "## Solution\n",
    "\n",
    "In this notebook we present three different and simple approaches to compute the string with highes GC-content. The first and simpler involves iterating through the data whie computing the GC content and keeping a tab on the string with the max value. The other approach is to use a list of tuples or a dictionary, in case the GC content is something we want to use later. And finally, and as we've been doing in the last few notebooks we introduce an implementation using 'Biopython'.\n",
    "\n",
    "We start by saving the sample input as a '.txt' file. Now, in this first approach, we open the raw file and as we iterate through the FASTA sequences we keep track of the maximum GC value and string we have seen, updating it when necessary."
   ]
  },
  {
   "cell_type": "code",
   "execution_count": 1,
   "metadata": {
    "collapsed": false
   },
   "outputs": [
    {
     "name": "stdout",
     "output_type": "stream",
     "text": [
      "Rosalind_0808\n",
      "60.919540\n"
     ]
    }
   ],
   "source": [
    "f = open('sample.txt', 'r')\n",
    "sample = f.read()\n",
    "f.close()\n",
    "\n",
    "# Initialize the max values\n",
    "max_gc_val = 0    \n",
    "max_gc_str = ''\n",
    "\n",
    "for fasta in sample.split(\">\")[1:]:\n",
    "    # Prepare the data, split into sequence and ID\n",
    "    seq_frags = fasta.split(\"\\n\")\n",
    "    seq_id = seq_frags[0]\n",
    "    seq = ''.join(seq_frags[1:])\n",
    "    # Compute GC content of sequence\n",
    "    gc = 100.0 * (seq.count(\"G\") + seq.count(\"C\")) / len(seq)\n",
    "    # Compare against the current max and update if necessary\n",
    "    if gc > max_gc_val:\n",
    "        max_gc_val, max_gc_str = gc, seq_id\n",
    "        \n",
    "print(max_gc_str)\n",
    "print('%.6f' % max_gc_val)"
   ]
  },
  {
   "cell_type": "markdown",
   "metadata": {},
   "source": [
    "The above approach is the fastest, since we only have to traverse the initial string once. But if we want a little more flexibility or perform other calculations based on GC content (maybe we also want to find the string with the minimum value, or we want all strings sorted based on GC counts), we can populate an array of tuples (seq_id, GC_count). Once we have that data structure we can sort based on the second item (GC count)."
   ]
  },
  {
   "cell_type": "code",
   "execution_count": 2,
   "metadata": {
    "collapsed": false
   },
   "outputs": [
    {
     "name": "stdout",
     "output_type": "stream",
     "text": [
      "Rosalind_0808\n",
      "60.919540\n"
     ]
    }
   ],
   "source": [
    "f = open('sample.txt', 'r')\n",
    "sample = f.read()\n",
    "f.close()\n",
    "\n",
    "# Initialize the max values\n",
    "data = []\n",
    "\n",
    "for fasta in sample.split(\">\")[1:]:\n",
    "    # Prepare the data, split into sequence and ID\n",
    "    seq_frags = fasta.split(\"\\n\")\n",
    "    seq_id = seq_frags[0]\n",
    "    seq = ''.join(seq_frags[1:])\n",
    "    # Compute GC content of sequence\n",
    "    gc = 100.0 * (seq.count(\"G\") + seq.count(\"C\")) / len(seq)\n",
    "    data.append((seq_id,gc))\n",
    "    \n",
    "sorted_gc = sorted(data, key=lambda x: -x[1])\n",
    "print(sorted_gc[0][0])\n",
    "print('%.6f' %sorted_gc[0][1])"
   ]
  },
  {
   "cell_type": "markdown",
   "metadata": {},
   "source": [
    "This approach takes a bit more time since we have to loop through the string once and then sort, which usually takes _O_(nlogn). We can also substitute the array of tuples by a dictionary. Depending on the kind of work we are doing we can make the sequence IDs the keys and the GC counts the value, or the opposite. However the former is somewhat more challenging since then we will be looking for the key with the highest value, instead of the value of the highest key. We present both approaches below:"
   ]
  },
  {
   "cell_type": "code",
   "execution_count": 3,
   "metadata": {
    "collapsed": false
   },
   "outputs": [
    {
     "name": "stdout",
     "output_type": "stream",
     "text": [
      "Rosalind_0808\n",
      "60.919540\n"
     ]
    }
   ],
   "source": [
    "# Using IDs as keys\n",
    "\n",
    "f = open('sample.txt', 'r')\n",
    "sample = f.read()\n",
    "f.close()\n",
    "\n",
    "# Initialize the max values\n",
    "data = {}\n",
    "\n",
    "for fasta in sample.split(\">\")[1:]:\n",
    "    # Prepare the data, split into sequence and ID\n",
    "    seq_frags = fasta.split(\"\\n\")\n",
    "    seq_id = seq_frags[0]\n",
    "    seq = ''.join(seq_frags[1:])\n",
    "    # Compute GC content of sequence\n",
    "    gc = 100.0 * (seq.count(\"G\") + seq.count(\"C\")) / len(seq)\n",
    "    data[seq_id] = gc\n",
    "\n",
    "# We take advantage of the fact that turning both\n",
    "# keys and values into list preserves ordering\n",
    "max_gc = max(list(data.values()))\n",
    "max_gc_index = list(data.values()).index(max_gc)\n",
    "max_id = list(data.keys())[max_gc_index]\n",
    "\n",
    "print(max_id)\n",
    "print('%6f' %max_gc)"
   ]
  },
  {
   "cell_type": "code",
   "execution_count": 4,
   "metadata": {
    "collapsed": false
   },
   "outputs": [
    {
     "name": "stdout",
     "output_type": "stream",
     "text": [
      "Rosalind_0808\n",
      "60.919540\n"
     ]
    }
   ],
   "source": [
    "# Using CG counts as keys\n",
    "\n",
    "f = open('sample.txt', 'r')\n",
    "sample = f.read()\n",
    "f.close()\n",
    "\n",
    "# Initialize the max values\n",
    "data = {}\n",
    "\n",
    "for fasta in sample.split(\">\")[1:]:\n",
    "    # Prepare the data, split into sequence and ID\n",
    "    seq_frags = fasta.split(\"\\n\")\n",
    "    seq_id = seq_frags[0]\n",
    "    seq = ''.join(seq_frags[1:])\n",
    "    # Compute GC content of sequence\n",
    "    gc = 100.0 * (seq.count(\"G\") + seq.count(\"C\")) / len(seq)\n",
    "    data[gc] = seq_id\n",
    "\n",
    "# We take advantage of the fact that turning both\n",
    "# keys and values into list preserves ordering\n",
    "max_gc = max(data.keys())\n",
    "max_id = data[max_gc]\n",
    "\n",
    "print(max_id)\n",
    "print('%6f' %max_gc)"
   ]
  },
  {
   "cell_type": "markdown",
   "metadata": {},
   "source": [
    "Finally we turn to Biopython. After what we have seen so far of this module (built-in translation and transcription, reverse complement, etc.), it is not surprising that Biopython offers a gc count method. We will implement the first solution in Biopython"
   ]
  },
  {
   "cell_type": "code",
   "execution_count": 5,
   "metadata": {
    "collapsed": false
   },
   "outputs": [
    {
     "name": "stdout",
     "output_type": "stream",
     "text": [
      "Rosalind_0808\n",
      "60.919540\n"
     ]
    }
   ],
   "source": [
    "from Bio import SeqIO\n",
    "from Bio.Seq import Seq\n",
    "from Bio.Alphabet import generic_dna\n",
    "from Bio.SeqUtils import GC\n",
    "\n",
    "f = open('sample.txt', 'r')\n",
    "max_gc = 0\n",
    "max_id = ''\n",
    "for seq in SeqIO.parse(f,'fasta'):\n",
    "    gc = GC(seq.seq)\n",
    "    if gc > max_gc:\n",
    "        max_gc = gc\n",
    "        max_id = seq.id\n",
    "\n",
    "print(max_id)\n",
    "print('%6f' %max_gc)"
   ]
  }
 ],
 "metadata": {
  "kernelspec": {
   "display_name": "Python 3",
   "language": "python",
   "name": "python3"
  },
  "language_info": {
   "codemirror_mode": {
    "name": "ipython",
    "version": 3
   },
   "file_extension": ".py",
   "mimetype": "text/x-python",
   "name": "python",
   "nbconvert_exporter": "python",
   "pygments_lexer": "ipython3",
   "version": "3.5.2"
  }
 },
 "nbformat": 4,
 "nbformat_minor": 0
}
