{
 "cells": [
  {
   "cell_type": "markdown",
   "metadata": {},
   "source": [
    "# Counting Point Mutations\n",
    "\n",
    "## Problem\n",
    "\n",
    "Given two strings $s$ and $t$ of equal length, the **Hamming** distance between $s$ and $t$, denoted $dH(s,t)$, is the number of corresponding symbols that differ in $s$ and $t$.\n",
    "\n",
    "_Given_: Two DNA strings $s$ and $t$ of equal length (not exceeding 1 kbp).\n",
    "\n",
    "_Return_: The Hamming distance $dH(s,t)$.\n",
    "\n",
    "**Sample Dataset**\n",
    "\n",
    "    GAGCCTACTAACGGGAT\n",
    "    CATCGTAATGACGGCCT\n",
    "\n",
    "**Sample Output**\n",
    "\n",
    "    7"
   ]
  },
  {
   "cell_type": "markdown",
   "metadata": {},
   "source": [
    "________________\n",
    "## Solution\n",
    "\n",
    "The solution to this problem being straightfoward, we only present one approach. It is easy to see that an algorithm for calculating the Hamming distance will run in linear time since we only have to traverse one of the input strings once and perform one comparison per element. So, instead on focusing on focusing on running time we are shooting for an elegant, _pythonic_ way of writing this function.\n",
    "\n",
    "First we need to make sure the input strings are of the same length. Then we can combine both list into an iterable _zip_ object, which can be thought of as a list made up of tuples of elements from both lists. Then we simply iterate through the zip and count the instances where the two characters fromm the different strings differ. Although this approach takes slightly longer than a simple loop, it can be elegantly written in one line:"
   ]
  },
  {
   "cell_type": "code",
   "execution_count": 8,
   "metadata": {
    "collapsed": false
   },
   "outputs": [
    {
     "name": "stdout",
     "output_type": "stream",
     "text": [
      "7\n"
     ]
    }
   ],
   "source": [
    "def hamming(s, t):\n",
    "    if len(s) != len(t):\n",
    "        raise ValueError(\"Strings must be the same length\")\n",
    "    else:\n",
    "        return sum(c1 != c2 for c1, c2 in zip(s, t))\n",
    "\n",
    "seq_a = 'GAGCCTACTAACGGGAT'\n",
    "seq_b = 'CATCGTAATGACGGCCT'\n",
    "\n",
    "print(hamming(seq_a,seq_b))"
   ]
  }
 ],
 "metadata": {
  "kernelspec": {
   "display_name": "Python 3",
   "language": "python",
   "name": "python3"
  },
  "language_info": {
   "codemirror_mode": {
    "name": "ipython",
    "version": 3
   },
   "file_extension": ".py",
   "mimetype": "text/x-python",
   "name": "python",
   "nbconvert_exporter": "python",
   "pygments_lexer": "ipython3",
   "version": "3.5.2"
  }
 },
 "nbformat": 4,
 "nbformat_minor": 0
}
