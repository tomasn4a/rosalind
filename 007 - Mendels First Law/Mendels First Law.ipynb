{
 "cells": [
  {
   "cell_type": "markdown",
   "metadata": {},
   "source": [
    "# Mendel's First Law\n",
    "\n",
    "## Problem\n",
    "\n",
    "Probability is the mathematical study of randomly occurring phenomena. We will model such a phenomenon with a random variable, which is simply a variable that can take a number of different distinct outcomes depending on the result of an underlying random process.\n",
    "\n",
    "For example, say that we have a bag containing 3 red balls and 2 blue balls. If we let X represent the random variable corresponding to the color of a drawn ball, then the probability of each of the two outcomes is given by Pr(X=red)=3/5 and Pr(X=blue)=2/5.\n",
    "\n",
    "Random variables can be combined to yield new random variables. Returning to the ball example, let Y model the color of a second ball drawn from the bag (without replacing the first ball). The probability of Y being red depends on whether the first ball was red or blue. To represent all outcomes of X and Y, we therefore use a probability tree diagram. This branching diagram represents all possible individual probabilities for X and Y, with outcomes at the endpoints (\"leaves\") of the tree. The probability of any outcome is given by the product of probabilities along the path from the beginning of the tree.\n",
    "\n",
    "An event is simply a collection of outcomes. Because outcomes are distinct, the probability of an event can be written as the sum of the probabilities of its constituent outcomes. For our colored ball example, let A be the event \"Y is blue.\" Pr(A) is equal to the sum of the probabilities of two different outcomes: Pr(X=blue and Y=blue)+Pr(X=red and Y=blue).\n",
    "\n",
    "_Given_: Three positive integers k, m, and n, representing a population containing k+m+n organisms: k individuals are homozygous dominant for a factor, m are heterozygous, and n are homozygous recessive.\n",
    "\n",
    "_Return_: The probability that two randomly selected mating organisms will produce an individual possessing a dominant allele (and thus displaying the dominant phenotype). Assume that any two organisms can mate.\n",
    "\n",
    "**Sample Dataset**\n",
    "\n",
    "    2 2 2\n",
    "\n",
    "**Sample Output**\n",
    "\n",
    "    0.78333"
   ]
  },
  {
   "cell_type": "markdown",
   "metadata": {},
   "source": [
    "_____________________\n",
    "## Solution\n",
    "\n",
    "This problem is not so much about writing good code but about figuring out probabilities. In this notebook we will look at the probability that the offspring will possess a dominant allele, and then explore a slightly shorter and more elegant solution based on the probability that the offspring does not possess a dominant allele.\n",
    "\n",
    "We start by picking a random organism out of the k+m+n available and then a second out of the k+m+n-1 left (except in one case as we'll see below). So what picks do we need for the offspring to have a dominant allele? We start by explicitly noting all different cases below.\n",
    "\n",
    "1. The first pick is a homozygous dominant. Since homozygous dominant have two dominant alleles, one of which will be passed down to offspring, automatically making it exhibit that phenotype, we don't really care what we pick next since the offspring will have a dominant allele regardless. The probability for this case then simply reduces to the probability that we pick a homozygous dominant first, or $\\frac{k}{k+m+n}$. \n",
    "\n",
    "2. The first pick is a heterozygous organism. In this case we do care about we pick next so we distinguish three different cases:\n",
    "  * The second pick is a homozygous dominant. In this case we are guaranteed that the offspring will have a dominant allele. The probability for this case is equal to the probability of picking a heterozygous times the probability of picking a dominant homozygous next, or $\\frac{m}{k+m+n}*\\frac{k}{k+m+n-1}$.\n",
    "  * The second pick is again heterozygous. In the case where the two parent organisms are heterozygous, and since we only need one dominant allele for the offspring to express a dominant phenotype, the probability that at least one of the parents will pass on a dominant allele is $75\\%$. The probability for this case is then $75\\%$ times the porbability of picking a heterozygous, and then another one: $0.75*\\frac{m}{k+m+n}*\\frac{m-1}{k+m+n-1}$.\n",
    "  * The second pick is homozygous recessive. In this case the offspring will have a dominant allele if and only if the first parent passes on its dominant allele, which it does with a $50\\%$ probability. So the probability for this case is $50\\%$ times the probability of picking a heterozygous and then a homozygous recessive: $0.5*\\frac{m}{k+m+n}*\\frac{n}{k+m+n-1}$.\n",
    "  \n",
    "3. The first pick is a homozygous dominant. In this case we need the other parent to have a dominant allele, so that leaves us with only two possible choices for the second parent:\n",
    "  * The second pick is homozygous dominant. In this case we are guaranteed that the offspring will have a dominant allele. The probability for this case is equal to the probability of picking a recessive homozygous times the probability of picking a dominant homozygous next, or $\\frac{n}{k+m+n}*\\frac{k}{k+m+n-1}$.\n",
    "  * The second pick is heterozygous. In this case the is only a $50/%$ chance that the offspring will have a dominant allele: $0.5*\\frac{n}{k+m+n}*\\frac{m}{k+m+n-1}$.\n",
    "  \n",
    "We can now simply add the probabilities for all these different cases. But first we note that except for the very first case, all others share the same denominator. We also note that cases 2.c and 3.b have the same probability so we can just add those up. The final probability is, writing $k+m+n=t$:\n",
    "\n",
    "<p style=\"text-align: center;\">$P(dominant) = \\frac{k}{t}+\\frac{1}{t*(t-1)}*[(m*k)+0.75*m*(m-1)+(m*n)+(n*k)]$</p>"
   ]
  },
  {
   "cell_type": "code",
   "execution_count": 44,
   "metadata": {
    "collapsed": false
   },
   "outputs": [
    {
     "name": "stdout",
     "output_type": "stream",
     "text": [
      "0.7833333333333333\n"
     ]
    }
   ],
   "source": [
    "def pdominant(k, m, n):\n",
    "    t = float(k+m+n)\n",
    "    return k/t + (1/(t*(t-1)))*(m*k + 0.75*m*(m-1) + m*n + n*k)\n",
    "\n",
    "print (dominant(2,2,2))"
   ]
  },
  {
   "cell_type": "markdown",
   "metadata": {},
   "source": [
    "Another approach which is a little simpler and cleaner is to use the fact that P(has dominant) + P(does not) = 1 and so we can calculate P(has) as 1-P(has not), P(has not) being easier to calculate. We calculate the probability that the offspring is homozygous recessive in very much the same way as above, but with fewer cases:\n",
    "\n",
    "1. The first choice is homozygous recessive:\n",
    "  * The second choice is also homozygous recessive.\n",
    "  * The second choice is heterozygous with $50\\%$ chance of passing down the recessive allele.\n",
    "\n",
    "2. The first choice is heterozygous:\n",
    "  * The second choice is homozygous recessive, giving a $50\\%$ chance of recessive offspring.\n",
    "  * The second choice is also heterozygous, giving a $25\\%$ chance of recessive offspring.\n",
    "  \n",
    "Writing it down explicitly:\n",
    "\n",
    "<p style=\"text-align: center;\">$P(dominant) = 1-\\left(\\frac{1}{t*(t-1)}*[n*(n-1)+n*m+0.25*m*(m-1)]\\right)$</p>"
   ]
  },
  {
   "cell_type": "code",
   "execution_count": 46,
   "metadata": {
    "collapsed": false
   },
   "outputs": [
    {
     "name": "stdout",
     "output_type": "stream",
     "text": [
      "0.7833333333333333\n"
     ]
    }
   ],
   "source": [
    "def pdominant_alt(k, m, n):\n",
    "    t = float(k+m+n)\n",
    "    return 1-((1/(t*(t-1)))*(n*(n-1)+n*m+0.25*m*(m-1)))\n",
    "\n",
    "print (pdominant_alt(2,2,2))"
   ]
  },
  {
   "cell_type": "code",
   "execution_count": null,
   "metadata": {
    "collapsed": true
   },
   "outputs": [],
   "source": []
  }
 ],
 "metadata": {
  "kernelspec": {
   "display_name": "Python 3",
   "language": "python",
   "name": "python3"
  },
  "language_info": {
   "codemirror_mode": {
    "name": "ipython",
    "version": 3
   },
   "file_extension": ".py",
   "mimetype": "text/x-python",
   "name": "python",
   "nbconvert_exporter": "python",
   "pygments_lexer": "ipython3",
   "version": "3.5.2"
  }
 },
 "nbformat": 4,
 "nbformat_minor": 0
}
