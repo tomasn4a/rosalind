{
 "cells": [
  {
   "cell_type": "markdown",
   "metadata": {},
   "source": [
    "# Inferring mRNA from Protein\n",
    "\n",
    "## Problem\n",
    "\n",
    "For positive integers a and n, a modulo n (written _a mod n_ in shorthand) is the remainder when a is divided by n. For example, _29 mod 11=7_ because _29=11×2+729_.\n",
    "\n",
    "Modular arithmetic is the study of addition, subtraction, multiplication, and division with respect to the modulo operation. We say that a and b are congruent modulo n if _a mod n=b mod n_; in this case, we use the notation _a≡b mod n_.\n",
    "\n",
    "Two useful facts in modular arithmetic are that if _a≡b mod n_ and _c≡d mod n_, then _a+c≡b+d mod n_ and _a×c≡b×d mod n _. To check your understanding of these rules, you may wish to verify these relationships for _a=29_, _b=73_, _c=10_, _d=32_, and _n=11_.\n",
    "\n",
    "As you will see in this exercise, some Rosalind problems will ask for a (very large) integer solution modulo a smaller number to avoid the computational pitfalls that arise with storing such large numbers.\n",
    "\n",
    "_Given_: A protein string of length at most 1000 aa.\n",
    "\n",
    "_Return_: The total number of different RNA strings from which the protein could have been translated, modulo 1,000,000. (Don't neglect the importance of the stop codon in protein translation.)\n",
    "\n",
    "**Sample Dataset**\n",
    "\n",
    "    MA\n",
    "    \n",
    "**Sample Output**\n",
    "\n",
    "    12"
   ]
  },
  {
   "cell_type": "markdown",
   "metadata": {},
   "source": [
    "____________\n",
    "## Solution\n",
    "\n",
    "The solution to this problem is relatively straightforward once you have a codon table properly stored. We start by building a sort of reverse lookup table where instead of looking up a codon to get the aminoacid, we can look up aminoacids to get a list of all possible codons."
   ]
  },
  {
   "cell_type": "code",
   "execution_count": 1,
   "metadata": {
    "collapsed": false
   },
   "outputs": [
    {
     "name": "stdout",
     "output_type": "stream",
     "text": [
      "Codon dictionary: \n",
      " {'I': ['AUU', 'AUC', 'AUA'], 'Q': ['CAA', 'CAG'], 'F': ['UUU', 'UUC'], 'T': ['ACU', 'ACC', 'ACA', 'ACG'], 'S': ['UCU', 'UCC', 'UCA', 'UCG', 'AGU', 'AGC'], 'Y': ['UAU', 'UAC'], 'Stop': ['UAA', 'UAG', 'UGA'], 'C': ['UGU', 'UGC'], 'W': ['UGG'], 'L': ['CUU', 'CUC', 'UUA', 'CUA', 'UUG', 'CUG'], 'R': ['CGU', 'CGC', 'CGA', 'AGA', 'CGG', 'AGG'], 'P': ['CCU', 'CCC', 'CCA', 'CCG'], 'D': ['GAU', 'GAC'], 'G': ['GGU', 'GGC', 'GGA', 'GGG'], 'H': ['CAU', 'CAC'], 'M': ['AUG'], 'N': ['AAU', 'AAC'], 'V': ['GUU', 'GUC', 'GUA', 'GUG'], 'K': ['AAA', 'AAG'], 'A': ['GCU', 'GCC', 'GCA', 'GCG'], 'E': ['GAA', 'GAG']}\n"
     ]
    }
   ],
   "source": [
    "codon = '''UUU F      CUU L      AUU I      GUU V\n",
    "UUC F      CUC L      AUC I      GUC V\n",
    "UUA L      CUA L      AUA I      GUA V\n",
    "UUG L      CUG L      AUG M      GUG V\n",
    "UCU S      CCU P      ACU T      GCU A\n",
    "UCC S      CCC P      ACC T      GCC A\n",
    "UCA S      CCA P      ACA T      GCA A\n",
    "UCG S      CCG P      ACG T      GCG A\n",
    "UAU Y      CAU H      AAU N      GAU D\n",
    "UAC Y      CAC H      AAC N      GAC D\n",
    "UAA Stop   CAA Q      AAA K      GAA E\n",
    "UAG Stop   CAG Q      AAG K      GAG E\n",
    "UGU C      CGU R      AGU S      GGU G\n",
    "UGC C      CGC R      AGC S      GGC G\n",
    "UGA Stop   CGA R      AGA R      GGA G\n",
    "UGG W      CGG R      AGG R      GGG G '''\n",
    "\n",
    "codon_dict = {}\n",
    "codon_clean = []\n",
    "for line in codon.split('\\n'):\n",
    "    line_sp = line.split('  ')\n",
    "    for i in range(len(line_sp)):\n",
    "        if line_sp[i] != '':\n",
    "            codon_clean.append(line_sp[i].strip())                \n",
    "for pair in codon_clean:\n",
    "    tup = pair.split()\n",
    "    if tup[1] not in codon_dict:\n",
    "        codon_dict[tup[1]] = [tup[0]]\n",
    "    else:\n",
    "        codon_dict[tup[1]] += [tup[0]]\n",
    "        \n",
    "print('Codon dictionary: \\n', codon_dict)"
   ]
  },
  {
   "cell_type": "markdown",
   "metadata": {},
   "source": [
    "With a dictionary built in this way, we can simply walk through the aminoacid chain and for every aminoacid we encounter we now there are _n_ times more possible choices of mRNA, _n_ being the length of the codon list associated with that particular aminoacid."
   ]
  },
  {
   "cell_type": "code",
   "execution_count": 2,
   "metadata": {
    "collapsed": false
   },
   "outputs": [
    {
     "name": "stdout",
     "output_type": "stream",
     "text": [
      "12\n"
     ]
    }
   ],
   "source": [
    "def infer(protein):\n",
    "    num = 1\n",
    "    for am in protein:\n",
    "        num *= len(codon_dict[am])\n",
    "    num *= len(codon_dict['Stop'])\n",
    "    return num%1000000\n",
    "\n",
    "print(infer('AM'))"
   ]
  }
 ],
 "metadata": {
  "kernelspec": {
   "display_name": "Python 3",
   "language": "python",
   "name": "python3"
  },
  "language_info": {
   "codemirror_mode": {
    "name": "ipython",
    "version": 3
   },
   "file_extension": ".py",
   "mimetype": "text/x-python",
   "name": "python",
   "nbconvert_exporter": "python",
   "pygments_lexer": "ipython3",
   "version": "3.5.2"
  }
 },
 "nbformat": 4,
 "nbformat_minor": 0
}
