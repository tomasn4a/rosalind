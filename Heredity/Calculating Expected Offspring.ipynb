{
 "cells": [
  {
   "cell_type": "markdown",
   "metadata": {},
   "source": [
    "# Calculating Expected Offspring\n",
    "\n",
    "## Problem\n",
    "\n",
    "For a random variable $X$ taking integer values between 1 and $n$, the expected value of $X$ is $E(X)=\\sum_{k=1}^{n}k*Pr(X=k)$. The expected value offers us a way of taking the long-term average of a random variable over a large number of trials.\n",
    "\n",
    "As a motivating example, let $X$ be the number on a six-sided die. Over a large number of rolls, we should expect to obtain an average of 3.5 on the die (even though it's not possible to roll a 3.5). The formula for expected value confirms that $E(X) = \\sum_{k=1}^{6}k*Pr(X=k)=3.5$.\n",
    "\n",
    "More generally, a random variable for which every one of a number of equally spaced outcomes has the same probability is called a uniform random variable (in the die example, this \"equal spacing\" is equal to 1). We can generalize our die example to find that if $X$ is a uniform random variable with minimum possible value $a$ and maximum possible value $b$, then $E(X)=\\frac{a+b}{2}$. You may also wish to verify that for the dice example, if $Y$ is the random variable associated with the outcome of a second die roll, then $E(X+Y)=7$.\n",
    "\n",
    "_Given_: Six positive integers, each of which does not exceed 20,000. The integers correspond to the number of couples in a population possessing each genotype pairing for a given factor. In order, the six given integers represent the number of couples having the following genotypes:\n",
    "\n",
    "1. AA-AA\n",
    "2. AA-Aa\n",
    "3. AA-aa\n",
    "4. Aa-Aa\n",
    "5. Aa-aa\n",
    "6. aa-aa\n",
    "\n",
    "_Return_: The expected number of offspring displaying the dominant phenotype in the next generation, under the assumption that every couple has exactly two offspring.\n",
    "\n",
    "**Sample Dataset**\n",
    "\n",
    "    1 0 0 1 0 1\n",
    "   \n",
    "**Sample Output**\n",
    "\n",
    "    3.5"
   ]
  },
  {
   "cell_type": "markdown",
   "metadata": {},
   "source": [
    "________________________\n",
    "## Solution\n",
    "\n",
    "In order to solve this problem, we will make use of one of the most powerful properties of random variables: the **linearity of expectation**. The linearity of expectation says that given $n$ random variables, $X_1$, $X_2$, ... ,$X_n$, the expectation value of ther sum is equal to the sum of their individual expectation. In order to appreciate the power of this simple property let's examine the classic example of rolling dice by calculating the expectated value of the sum. We start by calculating it without applying linearity of expectation. . If we throw to dice, we can get any number between 2 (two ones, or (1,1)), and 12 (two sixes, or (6,6)). We know that each combination of values of the two dice occur equally likely with probability $\\frac{1}{6}*\\frac{1}{6}=\\frac{1}{36}$. Now we need to count the how many combinations give us each outcome. For the value 2, we have {(1,1)}; for 3, {(1,2),(2,1)}; 4 is {(1,3),(2,2),(3,1)}; 5 {(1,4),(2,3),(3,2),(4,1)}; 6 {(1,5),(2,4),(3,3),(4,2),(5,1)}; 7 {(1,6),(2,5),(3,4),(4,3),(5,2),(6,1)}; 8 {(2,6),(3,5),(4,4),(5,3),(6,2)}; 9 {(3,6),(4,5),(5,4),(6,3)}; 10 {(4,6),(5,5),(6,4)}; 11 {(5,6),(6,5)}; and finally 12 {(6,6)}. Now we simply apply the formula $E(Z)=\\sum_{k=2}^{12}k*Pr(Z=k)$, where $Z=X+Y$. So $E(Z)=\\frac{1}{36}*(2+2*3+3*4+4*5+5*6+6*7+5*8+4*9+3*10+2*11+12) = \\frac{1}{36}*252=7$. That was feasible, but extremely tedious. What would happen if we were trying to calculate the expected value of the sum of three dice? Four? Fifty? The brute force approach is clearly nor efficient. Here comes the beauty of linearity of expectation. We have $E(X+Y)=E(X)+E(Y)$! So we only need to calculate the expecation value of a single die, namely $E(X) = \\frac{1}{6}*(1+2+3+4+5+6)=3.5$. So $E(X,Y)=2*E(X)=7$. Linearity of expectation is a remarkable property that holds even when the two random variables are not independent!\n",
    "\n",
    "Back to the problem, we start by writing down the expectation in terms of an indicator variable that can take the values 0 or 1 depending on whether the offspring displays a dominant phenotype or not. Because of linearity of expectation we can decompose the expected value of the sum of all possible couples into the sum of the expectation values for each. So let's start by computing the expectation value for each possible couple. We know that if one couple has both alleles dominant, then the offspring is guaranteed to display a dominant trait. So for the first three couples we have $E(AA-AA)=E(AA-Aa)=E(AA-aa)=1$. Now, for the third case, $Aa-Aa$, any combination of alleles gives rise to a dominant trait except for $aa$ which only occurs $25\\%$ of the time, so $E(Aa-Aa)=0.75$. In the fifth case, $Aa-aa$, the probability of the offspring displaying a dominant trait is equal to the probability of the first parent passing down its dominant allele, namely $50\\%$, so $E(Aa-aa)=0.5$. Finally, in the case of an $aa-aa$ couple, the expected value of the number of dominant offspring is simply $0$. \n",
    "\n",
    "Each couple has two offspring and the number of couples per genotype is given by $(x_1 ,x_2 , x_3 , x_4 , x_5 , x_6)$, so we have, by linearity of expectation:\n",
    "\n",
    "<p style=\"text-align:center\">$2E(x_1 * AA-AA + x_2 * AA-Aa + x_3 * AA-aa + x_4 * Aa-Aa + x_5 * Aa-aa + x_6 * aa-aa)$</p>\n",
    "<p style=\"text-align:center\">$=2(x_1 *E(AA-AA)+x_2 * E(AA-Aa) + x_3 * E(AA-aa) + x_4 * E(Aa-Aa) + x_5 * E(Aa-aa) + x_6 * E(aa-aa))$</p>\n",
    "<p style=\"text-align:center\">$=2(x_1+x_2+ x_3+ 0.75*x_4 + 0.5*x_5)$</p>"
   ]
  },
  {
   "cell_type": "markdown",
   "metadata": {},
   "source": [
    "Thanks to linearity of expectation we have obtained a general formula in terms of the number of couples of each phenotype. Checking on the sample input, where $x_1 = x_4 = x_6 = 1$ and $x_2 = x_3 = x_5 = 0$ gives $2(1+0.75)=3.5$, which corresponds to the sample output."
   ]
  }
 ],
 "metadata": {
  "kernelspec": {
   "display_name": "Python 3",
   "language": "python",
   "name": "python3"
  },
  "language_info": {
   "codemirror_mode": {
    "name": "ipython",
    "version": 3
   },
   "file_extension": ".py",
   "mimetype": "text/x-python",
   "name": "python",
   "nbconvert_exporter": "python",
   "pygments_lexer": "ipython3",
   "version": "3.5.2"
  }
 },
 "nbformat": 4,
 "nbformat_minor": 0
}
