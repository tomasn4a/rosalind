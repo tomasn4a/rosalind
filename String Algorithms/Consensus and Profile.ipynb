{
 "cells": [
  {
   "cell_type": "markdown",
   "metadata": {},
   "source": [
    "# Consensus and Profile\n",
    "\n",
    "## Problem\n",
    "\n",
    "A matrix is a rectangular table of values divided into rows and columns. An $m×n$ matrix has $m$ rows and $n$ columns. Given a matrix $A$, we write $A_{i,j}$ to indicate the value found at the intersection of row $i$ and column $j$.\n",
    "\n",
    "Say that we have a collection of DNA strings, all having the same length $n$. Their profile matrix is a $4×n$ matrix $P$ in which $P_{1,j}$ represents the number of times that 'A' occurs in the $j$th position of one of the strings, $P_{2,j}$ represents the number of times that C occurs in the $j$th position, and so on (see below).\n",
    "\n",
    "A consensus string cc is a string of length $n$ formed from our collection by taking the most common symbol at each position; the $j$th symbol of cc therefore corresponds to the symbol having the maximum value in the $j$-th column of the profile matrix. Of course, there may be more than one most common symbol, leading to multiple possible consensus strings.\n",
    "\n",
    "                      A T C C A G C T\n",
    "                      G G G C A A C T\n",
    "                      A T G G A T C T\n",
    "      DNA Strings\t A A G C A A C C\n",
    "                      T T G G A A C T\n",
    "                      A T G C C A T T\n",
    "                      A T G G C A C T\n",
    "                      \n",
    "                  A   5 1 0 0 5 5 0 0\n",
    "        Profile   C   0 0 1 4 2 0 6 1\n",
    "                  G   1 1 6 3 0 1 0 0\n",
    "                  T   1 5 0 0 0 1 1 6\n",
    "                  \n",
    "       Consensus\t  A T G C A A C T\n",
    "        \n",
    "        \n",
    "_Given_: A collection of at most 10 DNA strings of equal length (at most 1 kbp) in FASTA format.\n",
    "\n",
    "_Return_: A consensus string and profile matrix for the collection. (If several possible consensus strings exist, then you may return any one of them.)\n",
    "\n",
    "**Sample Dataset**\n",
    "\n",
    "        >Rosalind_1\n",
    "        ATCCAGCT\n",
    "        >Rosalind_2\n",
    "        GGGCAACT\n",
    "        >Rosalind_3\n",
    "        ATGGATCT\n",
    "        >Rosalind_4\n",
    "        AAGCAACC\n",
    "        >Rosalind_5\n",
    "        TTGGAACT\n",
    "        >Rosalind_6\n",
    "        ATGCCATT\n",
    "        >Rosalind_7\n",
    "        ATGGCACT\n",
    "        \n",
    "**Sample Output**\n",
    "\n",
    "        ATGCAACT\n",
    "        A: 5 1 0 0 5 5 0 0\n",
    "        C: 0 0 1 4 2 0 6 1\n",
    "        G: 1 1 6 3 0 1 0 0\n",
    "        T: 1 5 0 0 0 1 1 6"
   ]
  },
  {
   "cell_type": "markdown",
   "metadata": {},
   "source": [
    "_______________________\n",
    "## Solution\n",
    "\n",
    "Starting from this notebook we start to define multipurpose, modular functions that we will surely reuse in later problems. In this notebook we define a helper function called 'number_to_symbol' which maps integers 0 to 3 to the four bases 'ACGT'. We also create two more functions: a 'get_profile' function that takes in a list of sequences and outputs the profile, with the option to normalize the output, which will be useful for other problems. Finally, the 'consensus_string' takes in a profile, normalized or not, and outputs the consensus sequence. As we have done in previous notebooks, we will also explore Biopython's built-in functions that achieve similar results.\n",
    "\n",
    "We start by reading in the sample data, and creating the simple 'number_to_symbol' helper function:"
   ]
  },
  {
   "cell_type": "code",
   "execution_count": 1,
   "metadata": {
    "collapsed": false
   },
   "outputs": [],
   "source": [
    "sample_string = \"\"\"\n",
    ">Rosalind_1\n",
    "ATCCAGCT\n",
    ">Rosalind_2\n",
    "GGGCAACT\n",
    ">Rosalind_3\n",
    "ATGGATCT\n",
    ">Rosalind_4\n",
    "AAGCAACC\n",
    ">Rosalind_5\n",
    "TTGGAACT\n",
    ">Rosalind_6\n",
    "ATGCCATT\n",
    ">Rosalind_7\n",
    "ATGGCACT\n",
    "\"\"\"\n",
    "sample = []\n",
    "for x in sample_string.split('>')[1:]:\n",
    "    sample.append(''.join(x.split('\\n')[1:]))\n",
    "\n",
    "# Helper function mapping (0,1,2,3) to ('A','C','G','T')\n",
    "def number_to_symbol(n):\n",
    "    if n == 0:\n",
    "        return 'A'\n",
    "    elif n == 1:\n",
    "        return 'C'\n",
    "    elif n == 2:\n",
    "        return 'G'\n",
    "    else:\n",
    "        return 'T'"
   ]
  },
  {
   "cell_type": "markdown",
   "metadata": {},
   "source": [
    "Now we move on to the two main functions. The 'get_profile' functions takes a list of sequences and a boolean for whether or not we want the output normalized. It then initiates an $4xn$ matrix of zeros, $n$ being the number of nucleotides per sequence. Reading the input list column by column we fill this zero matrix with the appropriate counts for each nucleotide, making use of the 'number_to_symbol' helper function to achieve an elegant, concise solution."
   ]
  },
  {
   "cell_type": "code",
   "execution_count": 2,
   "metadata": {
    "collapsed": false
   },
   "outputs": [
    {
     "name": "stdout",
     "output_type": "stream",
     "text": [
      "Profile without normalization: \n",
      " [[5 1 0 0 5 5 0 0]\n",
      " [0 0 1 4 2 0 6 1]\n",
      " [1 1 6 3 0 1 0 0]\n",
      " [1 5 0 0 0 1 1 6]]\n",
      "\n",
      "Profile with normalization: \n",
      " [[0.71 0.14 0.00 0.00 0.71 0.71 0.00 0.00]\n",
      " [0.00 0.00 0.14 0.57 0.29 0.00 0.86 0.14]\n",
      " [0.14 0.14 0.86 0.43 0.00 0.14 0.00 0.00]\n",
      " [0.14 0.71 0.00 0.00 0.00 0.14 0.14 0.86]]\n"
     ]
    }
   ],
   "source": [
    "import numpy as np\n",
    "\n",
    "def get_profile(seqs, normalize = True):\n",
    "    seq_length = len(sample[0])\n",
    "    # Initialize empty profile matrix\n",
    "    profile = np.zeros((4,seq_length))\n",
    "    # Replace values with appropriate column counts\n",
    "    for i in range(seq_length):\n",
    "        col = [row[i] for row in sample]\n",
    "        for j in range(4):\n",
    "            profile[j][i] = col.count(number_to_symbol(j))/(1+ normalize*(len(seqs)-1))\n",
    "    return profile\n",
    "\n",
    "print('Profile without normalization: \\n', get_profile(sample,normalize=False).astype(int))\n",
    "np.set_printoptions(formatter={'float': lambda x: \"{0:0.2f}\".format(x)})\n",
    "print('\\nProfile with normalization: \\n', get_profile(sample))\n",
    "np.set_printoptions()"
   ]
  },
  {
   "cell_type": "markdown",
   "metadata": {},
   "source": [
    "The 'consensus_string' function, takes in a profile as argument, and outputs the consensus string, once again making use of the helper function for readability."
   ]
  },
  {
   "cell_type": "code",
   "execution_count": 3,
   "metadata": {
    "collapsed": false
   },
   "outputs": [
    {
     "name": "stdout",
     "output_type": "stream",
     "text": [
      "Consensus string: ATGCAACT\n"
     ]
    }
   ],
   "source": [
    "def consensus_string(profile):\n",
    "    consensus = ''\n",
    "    seq_length = len(profile[0])\n",
    "    for i in range(seq_length):\n",
    "        col = [row[i] for row in profile]\n",
    "        consensus += number_to_symbol(col.index(max(col)))\n",
    "    return consensus\n",
    "\n",
    "profile = get_profile(sample, normalize=False)\n",
    "print('Consensus string: %s' % consensus_string(profile))\n"
   ]
  },
  {
   "cell_type": "markdown",
   "metadata": {},
   "source": [
    "We choose to leave the output format of both functions as they are, in order to reuse the functions in the future. So, to present the results in the desired formats we need to do a little manipulation:"
   ]
  },
  {
   "cell_type": "code",
   "execution_count": 4,
   "metadata": {
    "collapsed": false
   },
   "outputs": [
    {
     "name": "stdout",
     "output_type": "stream",
     "text": [
      "Output in the desired format: \n",
      "ATGCAACT\n",
      "A: 5 1 0 0 5 5 0 0 \n",
      "C: 0 0 1 4 2 0 6 1 \n",
      "G: 1 1 6 3 0 1 0 0 \n",
      "T: 1 5 0 0 0 1 1 6 \n",
      "\n"
     ]
    }
   ],
   "source": [
    "profile = get_profile(sample, normalize=False)\n",
    "ans_str = consensus_string(profile) + '\\n'\n",
    "for i in range(4):\n",
    "    ans_str += number_to_symbol(i) + ': '\n",
    "    for x in profile[i]:\n",
    "        ans_str += str(int(x)) + ' '\n",
    "    ans_str += '\\n'\n",
    "print('Output in the desired format: \\n%s' %ans_str)        "
   ]
  },
  {
   "cell_type": "markdown",
   "metadata": {},
   "source": [
    "____________\n",
    "We now turn to Biopython. As we have seen in previous notebooks, Biopython implements very useful methods for reading in FASTA (and many other) data. We start by reading the FASTA sequences into a parse object. The elements of this objects are composed of an id and a sequence. We then extract the sequences and pass them as instances of a motifs object. This object now has some methods that achieve the results we are looking for such as a consensus string or a counts matrix:"
   ]
  },
  {
   "cell_type": "code",
   "execution_count": 5,
   "metadata": {
    "collapsed": false
   },
   "outputs": [
    {
     "name": "stdout",
     "output_type": "stream",
     "text": [
      "Consensus string: \n",
      "ATGCAACT\n",
      "\n",
      "Profile: \n",
      "         0      1      2      3      4      5      6      7\n",
      "A:   5.00   1.00   0.00   0.00   5.00   5.00   0.00   0.00\n",
      "C:   0.00   0.00   1.00   4.00   2.00   0.00   6.00   1.00\n",
      "G:   1.00   1.00   6.00   3.00   0.00   1.00   0.00   0.00\n",
      "T:   1.00   5.00   0.00   0.00   0.00   1.00   1.00   6.00\n",
      "\n"
     ]
    }
   ],
   "source": [
    "from Bio import motifs\n",
    "from Bio import SeqIO\n",
    "from Bio.Alphabet import generic_dna\n",
    "\n",
    "seqs = SeqIO.parse('sample_cons.txt', 'fasta', generic_dna)\n",
    "instances = [x.seq for x in seqs]\n",
    "m = motifs.create(instances)\n",
    "print('Consensus string: \\n%s' % m.consensus)\n",
    "print('\\nProfile: \\n',m.counts)"
   ]
  }
 ],
 "metadata": {
  "kernelspec": {
   "display_name": "Python 3",
   "language": "python",
   "name": "python3"
  },
  "language_info": {
   "codemirror_mode": {
    "name": "ipython",
    "version": 3
   },
   "file_extension": ".py",
   "mimetype": "text/x-python",
   "name": "python",
   "nbconvert_exporter": "python",
   "pygments_lexer": "ipython3",
   "version": "3.5.2"
  }
 },
 "nbformat": 4,
 "nbformat_minor": 0
}
