{
 "cells": [
  {
   "cell_type": "markdown",
   "metadata": {},
   "source": [
    "# Finding a Motif in DNA\n",
    "\n",
    "## Problem\n",
    "\n",
    "Given two strings s and t, tt is a substring of s if t is contained as a contiguous collection of symbols in s (as a result, t must be no longer than s).\n",
    "\n",
    "The position of a symbol in a string is the total number of symbols found to its left, including itself (e.g., the positions of all occurrences of 'U' in \"AUGCUUCAGAAAGGUCUUACG\" are 2, 5, 6, 15, 17, and 18). The symbol at position i of s is denoted by s[i].\n",
    "\n",
    "A substring of ss can be represented as s[j:k], where j and k represent the starting and ending positions of the substring in s; for example, if s = \"AUGCUUCAGAAAGGUCUUACG\", then s[2:5] = \"UGCU\".\n",
    "\n",
    "The location of a substring s[j:k] is its beginning position j; note that t will have multiple locations in s if it occurs more than once as a substring of s (see the Sample below).\n",
    "\n",
    "_Given_: Two DNA strings s and t (each of length at most 1 kbp).\n",
    "\n",
    "_Return_: All locations of t as a substring of s.\n",
    "\n",
    "**Sample Dataset**\n",
    "\n",
    "    GATATATGCATATACTT\n",
    "    ATAT\n",
    "\n",
    "**Sample Output**\n",
    "\n",
    "    2 4 10"
   ]
  },
  {
   "cell_type": "markdown",
   "metadata": {},
   "source": [
    "____________________\n",
    "## Solution\n",
    "\n",
    "Finding a motif in a string is a relatively simple task which can be accomplished in $(l-k)*k$ time, where $l$ is the length of the string and $k$ that of the motif. The function below steps through the input one character at a time, up until $l-k$, and compares the $k$-substring starting at that position to the motif, adding its position to the output list if it's a match. The boolean 'start_at_one' allows us to switch between 1-based and 0-based numbering easily."
   ]
  },
  {
   "cell_type": "code",
   "execution_count": 1,
   "metadata": {
    "collapsed": false
   },
   "outputs": [
    {
     "name": "stdout",
     "output_type": "stream",
     "text": [
      "[2, 4, 10]\n"
     ]
    }
   ],
   "source": [
    "def motif_locations(s,t, start_at_one = False):\n",
    "    locations = []\n",
    "    k = len(t)\n",
    "    b = int(start_at_one)\n",
    "    for i in range(len(s)-k+1):\n",
    "        if s[i:i+k] == t:\n",
    "            locations.append(i+b)\n",
    "    return locations\n",
    "\n",
    "s = 'GATATATGCATATACTT'\n",
    "t = 'ATAT'\n",
    "print(motif_locations(s, t, start_at_one=True))\n",
    "        "
   ]
  },
  {
   "cell_type": "markdown",
   "metadata": {},
   "source": [
    "Biopython has some built-in methods for counting patterns that although 'overkill' for this particular simple task, are very powerful and useful in more advanced pattern-searching. We start by defining a motif sequence: a list containing all motifs we want to search for. In our case, it is made up of only one element, but it can be useful to include all variations of the motif that are at most a _d_-distance away (_d_ being the Hamming distance)."
   ]
  },
  {
   "cell_type": "code",
   "execution_count": 2,
   "metadata": {
    "collapsed": false
   },
   "outputs": [
    {
     "name": "stdout",
     "output_type": "stream",
     "text": [
      "ATAT\n",
      "\n",
      "4\n"
     ]
    }
   ],
   "source": [
    "from Bio.Seq import Seq\n",
    "from Bio import motifs\n",
    "\n",
    "m = motifs.create([Seq(t)])\n",
    "\n",
    "print(m)\n",
    "# Note that the length of our motif object is the length of the patterns included,\n",
    "# which have to be of the same length, and not the number of different patterns.\n",
    "print(len(m))"
   ]
  },
  {
   "cell_type": "markdown",
   "metadata": {},
   "source": [
    "Then we can search for all motif instances in a string using the 'search' function. This generator function returns all positions of each motif instances in the string."
   ]
  },
  {
   "cell_type": "code",
   "execution_count": 3,
   "metadata": {
    "collapsed": false
   },
   "outputs": [
    {
     "name": "stdout",
     "output_type": "stream",
     "text": [
      "1 ATAT\n",
      "3 ATAT\n",
      "9 ATAT\n"
     ]
    }
   ],
   "source": [
    "test_seq=Seq(s)\n",
    "for pos, seq in m.instances.search(test_seq):\n",
    "    print(pos, seq)"
   ]
  },
  {
   "cell_type": "markdown",
   "metadata": {},
   "source": [
    "Note that the search function assumes 0-based numbering."
   ]
  }
 ],
 "metadata": {
  "kernelspec": {
   "display_name": "Python 3",
   "language": "python",
   "name": "python3"
  },
  "language_info": {
   "codemirror_mode": {
    "name": "ipython",
    "version": 3
   },
   "file_extension": ".py",
   "mimetype": "text/x-python",
   "name": "python",
   "nbconvert_exporter": "python",
   "pygments_lexer": "ipython3",
   "version": "3.5.2"
  }
 },
 "nbformat": 4,
 "nbformat_minor": 0
}
