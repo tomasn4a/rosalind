{
 "cells": [
  {
   "cell_type": "markdown",
   "metadata": {},
   "source": [
    "# Translating RNA into Protein\n",
    "\n",
    "## Problem\n",
    "\n",
    "The 20 commonly occurring amino acids are abbreviated by using 20 letters from the English alphabet (all letters except for B, J, O, U, X, and Z). Protein strings are constructed from these 20 symbols. Henceforth, the term genetic string will incorporate protein strings along with DNA strings and RNA strings.\n",
    "\n",
    "The RNA codon table dictates the details regarding the encoding of specific codons into the amino acid alphabet.\n",
    "\n",
    "_Given_: An RNA string $s$ corresponding to a strand of mRNA (of length at most 10 kbp).\n",
    "\n",
    "_Return_: The protein string encoded by $s$.\n",
    "\n",
    "**Sample Dataset**\n",
    "\n",
    "    AUGGCCAUGGCGCCCAGAACUGAGAUCAAUAGUACCCGUAUUAACGGGUGA\n",
    "\n",
    "**Sample Output**\n",
    "\n",
    "    MAMAPRTEINSTRING"
   ]
  },
  {
   "cell_type": "markdown",
   "metadata": {},
   "source": [
    "_________________\n",
    "## Solution\n",
    "\n",
    "This will again be a short notebook, the solution being straightforward and running in _O_(n), since we will store the codon table in a dictionary, and dictionary lookups take in general _O_(1) time. We will explore two simple ways to get a codon table in string format into a dictionary: a simple loop, and a clever use of a zip object with extended slicing techniques. As per usual, we will also look at a Biopython's implementation.\n",
    "\n",
    "We start by reading a codon table in string format into a dictionary. The first simple approach involves splitting the string at whitespaces and then simply traverse the string with a step size of two, populating the dictionary."
   ]
  },
  {
   "cell_type": "code",
   "execution_count": 1,
   "metadata": {
    "collapsed": false
   },
   "outputs": [
    {
     "name": "stdout",
     "output_type": "stream",
     "text": [
      "{'UGA': 'Stop', 'AAC': 'N', 'CUU': 'L', 'AGU': 'S', 'AGC': 'S', 'CGC': 'R', 'ACC': 'T', 'GAC': 'D', 'AAG': 'K', 'UCC': 'S', 'UUA': 'L', 'UAU': 'Y', 'CGA': 'R', 'UUG': 'L', 'CUA': 'L', 'UAA': 'Stop', 'CUC': 'L', 'AUA': 'I', 'CCA': 'P', 'UGU': 'C', 'GCG': 'A', 'ACA': 'T', 'GCA': 'A', 'GUU': 'V', 'GGG': 'G', 'AAU': 'N', 'CGG': 'R', 'CGU': 'R', 'GAG': 'E', 'UCU': 'S', 'UAG': 'Stop', 'UUU': 'F', 'UCA': 'S', 'CAA': 'Q', 'GAA': 'E', 'AUC': 'I', 'ACG': 'T', 'CUG': 'L', 'CCG': 'P', 'GAU': 'D', 'GUC': 'V', 'CAC': 'H', 'CAG': 'Q', 'CCC': 'P', 'AAA': 'K', 'GGU': 'G', 'GGC': 'G', 'CAU': 'H', 'GGA': 'G', 'AGA': 'R', 'UGG': 'W', 'ACU': 'T', 'AUU': 'I', 'GUG': 'V', 'AUG': 'M', 'GCC': 'A', 'UCG': 'S', 'CCU': 'P', 'GUA': 'V', 'UAC': 'Y', 'GCU': 'A', 'AGG': 'R', 'UGC': 'C', 'UUC': 'F'}\n"
     ]
    }
   ],
   "source": [
    "codon_table = \"\"\"UUU F      CUU L      AUU I      GUU V\n",
    "UUC F      CUC L      AUC I      GUC V\n",
    "UUA L      CUA L      AUA I      GUA V\n",
    "UUG L      CUG L      AUG M      GUG V\n",
    "UCU S      CCU P      ACU T      GCU A\n",
    "UCC S      CCC P      ACC T      GCC A\n",
    "UCA S      CCA P      ACA T      GCA A\n",
    "UCG S      CCG P      ACG T      GCG A\n",
    "UAU Y      CAU H      AAU N      GAU D\n",
    "UAC Y      CAC H      AAC N      GAC D\n",
    "UAA Stop   CAA Q      AAA K      GAA E\n",
    "UAG Stop   CAG Q      AAG K      GAG E\n",
    "UGU C      CGU R      AGU S      GGU G\n",
    "UGC C      CGC R      AGC S      GGC G\n",
    "UGA Stop   CGA R      AGA R      GGA G\n",
    "UGG W      CGG R      AGG R      GGG G \"\"\"\n",
    "\n",
    "codon_dict = {}\n",
    "codon_table = codon_table.split()\n",
    "for i in range(0,len(codon_table)-1,2):\n",
    "    codon_dict[codon_table[i]] = codon_table[i+1]\n",
    "\n",
    "print(codon_dict)"
   ]
  },
  {
   "cell_type": "markdown",
   "metadata": {},
   "source": [
    "Another approach, inspired by [Ben Usman](http://rosalind.info/users/MInner/), makes use of a zip object and extended slicing techniques. We have already encountered zip objects in past notebooks, they are an iterable object that can be thought of as a list of tuples. In order to populate the zip object, we can used extended slicing techniques, as shown below.\n",
    "\n",
    "The general form for slicing a list is list[a:b:s], where a is the beginning, b is the end, and s is the step size. So for example if we wanted to traverse a list from the second element up to the tenth with a step size of two we would use list[1:10:2]. As usual if we start from the beginning we can omit the first index, and we are traversing until the end we can ignore the second. So, traversing a list from beginning to end can simply and elegantly be written list[::2]."
   ]
  },
  {
   "cell_type": "code",
   "execution_count": 2,
   "metadata": {
    "collapsed": false
   },
   "outputs": [
    {
     "name": "stdout",
     "output_type": "stream",
     "text": [
      "{'UGA': 'Stop', 'AAC': 'N', 'CUU': 'L', 'AGU': 'S', 'AGC': 'S', 'CGC': 'R', 'ACC': 'T', 'GAC': 'D', 'AAG': 'K', 'UCC': 'S', 'UUA': 'L', 'UAU': 'Y', 'CGA': 'R', 'UUG': 'L', 'CUA': 'L', 'UAA': 'Stop', 'CUC': 'L', 'AUA': 'I', 'CCA': 'P', 'UGU': 'C', 'GCG': 'A', 'ACA': 'T', 'GCA': 'A', 'GUU': 'V', 'GGG': 'G', 'AAU': 'N', 'CGG': 'R', 'CGU': 'R', 'GAG': 'E', 'UCU': 'S', 'UAG': 'Stop', 'UUU': 'F', 'UCA': 'S', 'CAA': 'Q', 'GAA': 'E', 'AUC': 'I', 'ACG': 'T', 'CUG': 'L', 'CCG': 'P', 'GAU': 'D', 'GUC': 'V', 'CAC': 'H', 'CAG': 'Q', 'CCC': 'P', 'AAA': 'K', 'GGU': 'G', 'GGC': 'G', 'CAU': 'H', 'GGA': 'G', 'AGA': 'R', 'UGG': 'W', 'ACU': 'T', 'AUU': 'I', 'GUG': 'V', 'AUG': 'M', 'GCC': 'A', 'UCG': 'S', 'CCU': 'P', 'GUA': 'V', 'UAC': 'Y', 'GCU': 'A', 'AGG': 'R', 'UGC': 'C', 'UUC': 'F'}\n"
     ]
    }
   ],
   "source": [
    "codon_dict2 = dict(zip(codon_table[::2],codon_table[1::2]))\n",
    "\n",
    "print(codon_dict2)"
   ]
  },
  {
   "cell_type": "markdown",
   "metadata": {},
   "source": [
    "Now that we have a dictionary translating codons to amino acids, we can implement the translate function, which simply walks through the input strings, three characters at a time, completing the output string with the dictionary entry for that particular codon. The function also indicates the used whether it stopped translation because the end of the input string was reached or because a 'Stop' codon was encountered."
   ]
  },
  {
   "cell_type": "code",
   "execution_count": 3,
   "metadata": {
    "collapsed": false
   },
   "outputs": [
    {
     "name": "stdout",
     "output_type": "stream",
     "text": [
      "*Stop codon encountered at end of file*\n",
      "MAMAPRTEINSTRING\n"
     ]
    }
   ],
   "source": [
    "sample = 'AUGGCCAUGGCGCCCAGAACUGAGAUCAAUAGUACCCGUAUUAACGGGUGA'\n",
    "\n",
    "def translate(seq):\n",
    "    prot_str = ''\n",
    "    for i in range(0,len(seq)-2,3):\n",
    "        if codon_dict[seq[i:i+3]] == 'Stop':\n",
    "            if i == len(seq)-3:\n",
    "                print('*Stop codon encountered at end of file*')\n",
    "            else:\n",
    "                print('*Stop codon encountered mid-file*')\n",
    "            return prot_str\n",
    "        prot_str += codon_dict[seq[i:i+3]]\n",
    "    print('*RNA sequence missing stop codon*')\n",
    "    return prot_str\n",
    "\n",
    "print(translate(sample))       "
   ]
  },
  {
   "cell_type": "markdown",
   "metadata": {},
   "source": [
    "The Biopython module offers a built-in translation function, with many useful features such as the ability to select between different [genetic codes](http://www.ncbi.nlm.nih.gov/Taxonomy/Utils/wprintgc.cgi)."
   ]
  },
  {
   "cell_type": "code",
   "execution_count": 4,
   "metadata": {
    "collapsed": false
   },
   "outputs": [
    {
     "data": {
      "text/plain": [
       "Seq('MAMAPRTEINSTRING*', HasStopCodon(ExtendedIUPACProtein(), '*'))"
      ]
     },
     "execution_count": 4,
     "metadata": {},
     "output_type": "execute_result"
    }
   ],
   "source": [
    "from Bio.Seq import Seq\n",
    "from Bio.Alphabet import generic_rna\n",
    "\n",
    "rna_seq = Seq(sample, generic_rna)\n",
    "prot_seq = rna_seq.translate()\n",
    "\n",
    "prot_seq"
   ]
  },
  {
   "cell_type": "markdown",
   "metadata": {},
   "source": [
    "We see that the translate function with default values places uses an asterisk to represent stop codons. The resulting sequence has a special alphabet associated, which is Biopython's standard protein alphabet but with '*' as stop codons."
   ]
  },
  {
   "cell_type": "markdown",
   "metadata": {},
   "source": [
    "We can tell the translate function to stop at the first stop codon. In this case the sequence obtained has an unmodified protein alphabet associated."
   ]
  },
  {
   "cell_type": "code",
   "execution_count": 5,
   "metadata": {
    "collapsed": false
   },
   "outputs": [
    {
     "data": {
      "text/plain": [
       "Seq('MAMAPRTEINSTRING', ExtendedIUPACProtein())"
      ]
     },
     "execution_count": 5,
     "metadata": {},
     "output_type": "execute_result"
    }
   ],
   "source": [
    "prot_seq = rna_seq.translate(to_stop=True)\n",
    "\n",
    "prot_seq"
   ]
  }
 ],
 "metadata": {
  "kernelspec": {
   "display_name": "Python 3",
   "language": "python",
   "name": "python3"
  },
  "language_info": {
   "codemirror_mode": {
    "name": "ipython",
    "version": 3
   },
   "file_extension": ".py",
   "mimetype": "text/x-python",
   "name": "python",
   "nbconvert_exporter": "python",
   "pygments_lexer": "ipython3",
   "version": "3.5.2"
  }
 },
 "nbformat": 4,
 "nbformat_minor": 0
}
