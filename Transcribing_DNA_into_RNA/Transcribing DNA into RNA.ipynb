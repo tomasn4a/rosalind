{
 "cells": [
  {
   "cell_type": "markdown",
   "metadata": {},
   "source": [
    "# Transcribing DNA into RNA\n",
    "\n",
    "## Problem\n",
    "\n",
    "An RNA string is a string formed from the alphabet containing 'A', 'C', 'G', and 'U'.\n",
    "\n",
    "Given a DNA string tt corresponding to a coding strand, its transcribed RNA string uu is formed by replacing all occurrences of 'T' in tt with 'U' in uu.\n",
    "\n",
    "_Given_: A DNA string tt having length at most 1000 nt.\n",
    "\n",
    "_Return_: The transcribed RNA string of tt.\n",
    "\n",
    "**Sample Dataset**\n",
    "\n",
    "    GATGGAACTTGACTACGTAAATT\n",
    "    \n",
    "**Sample Output**\n",
    "\n",
    "    GAUGGAACUUGACUACGUAAAUU\n",
    "    \n",
    "_______________"
   ]
  },
  {
   "cell_type": "markdown",
   "metadata": {},
   "source": [
    "**Solution**: There are not a lot of algorithms to consider when solving this problem so after implementing the straight-forward solution using Python's 'replace' built-in method we will take the chance to explore Biopython, a popular module used by many researchers and developers worldwide for computational molecular biology.\n",
    "\n",
    "As mentioned above, Python offers a highly optimized replace function which works perfectly for the task at hand. However, if you do not know this method and are stuck somewhere without internet, an interesting approach is to first split the original string into a list of substrings at each occurrence of the character we want to replace using 'split'. For example the string \"GATGG\" will become the list [\"CA\",\"GG\"]. Then we can simply join them with the character we want to replace using 'join' and done!"
   ]
  },
  {
   "cell_type": "code",
   "execution_count": 1,
   "metadata": {
    "collapsed": false
   },
   "outputs": [
    {
     "name": "stdout",
     "output_type": "stream",
     "text": [
      "First 5 elements of split string: ['GA', 'GGAAC', '', 'GAC', 'ACG']\n",
      "Final result: GAUGGAACUUGACUACGUAAAUU\n"
     ]
    }
   ],
   "source": [
    "sample = \"GATGGAACTTGACTACGTAAATT\"\n",
    "\n",
    "# First split the string at the \"T\"s\n",
    "spl_string = sample.split(\"T\")\n",
    "# These are the first 5 elements of the resulting list\n",
    "print(\"First 5 elements of split string:\", spl_string[:5])\n",
    "# Then join the substrings with \"U\"s\n",
    "print(\"Final result:\", 'U'.join(spl_string))\n",
    "\n",
    "# Note: You can condense this in a one-liner:\n",
    "# print('U'.join(sample.split('T')))"
   ]
  },
  {
   "cell_type": "markdown",
   "metadata": {},
   "source": [
    "If you plan on performing this kind of replacement somewhere else in your project, it is useful to write a function. A function simply takes an input, performs a series of transformations and gives back an output."
   ]
  },
  {
   "cell_type": "code",
   "execution_count": 2,
   "metadata": {
    "collapsed": false
   },
   "outputs": [
    {
     "name": "stdout",
     "output_type": "stream",
     "text": [
      "GAUGGAACUUGACUACGUAAAUU\n"
     ]
    }
   ],
   "source": [
    "def translate_joinsplit(some_string):\n",
    "    return 'U'.join(some_string.split('T'))\n",
    "\n",
    "print(translate_joinsplit(sample))"
   ]
  },
  {
   "cell_type": "markdown",
   "metadata": {},
   "source": [
    "And using Python's 'replace' built-in function:"
   ]
  },
  {
   "cell_type": "code",
   "execution_count": 3,
   "metadata": {
    "collapsed": false
   },
   "outputs": [
    {
     "name": "stdout",
     "output_type": "stream",
     "text": [
      "GAUGGAACUUGACUACGUAAAUU\n"
     ]
    }
   ],
   "source": [
    "def translate_replace(some_string):\n",
    "    return some_string.replace('T','U')\n",
    "\n",
    "print(translate_replace(sample))"
   ]
  },
  {
   "cell_type": "markdown",
   "metadata": {},
   "source": [
    "On to Biopython. From Biopython's website:\n",
    "\n",
    "_\"Biopython is a set of freely available tools for biological computation written in Python by an international team of developers._\n",
    "\n",
    "_It is a distributed collaborative effort to develop Python libraries and applications which address the needs of current and future work in bioinformatics. The source code is made available under the Biopython License, which is extremely liberal and compatible with almost every license in the world.\"_\n",
    "\n",
    "You can find instructions on downloading and installing Biopython [here](http://biopython.org/wiki/Biopython)."
   ]
  },
  {
   "cell_type": "markdown",
   "metadata": {},
   "source": [
    "**Please note**: You need to have installed Biopython for the following cells to run.\n",
    "\n",
    "Biopython offers a wide array of very useful tools. One of them is the Sequence (Seq). A Seq holds the input data string along with an associated \"alphabet\". The associated alphabet categorizes the sequence as DNA, RNA, or proteins, for example, unlocking a series of methods designed specifically for each.\n",
    "\n",
    "Let's start by reading our input data into a Seq and associating the generic_dna alphabet to it:"
   ]
  },
  {
   "cell_type": "code",
   "execution_count": 11,
   "metadata": {
    "collapsed": false
   },
   "outputs": [
    {
     "data": {
      "text/plain": [
       "Seq('GATGGAACTTGACTACGTAAATT', DNAAlphabet())"
      ]
     },
     "execution_count": 11,
     "metadata": {},
     "output_type": "execute_result"
    }
   ],
   "source": [
    "from Bio.Seq import Seq\n",
    "from Bio.Alphabet import generic_dna\n",
    "\n",
    "dna = Seq(sample, generic_dna)\n",
    "\n",
    "# Our dna variable is now an object containing our input string and an associated DNA Alphabet:\n",
    "dna"
   ]
  },
  {
   "cell_type": "markdown",
   "metadata": {},
   "source": [
    "The Seq object has many associated methods, some of which we are familiar with such as 'count' and 'find'. But it includes other domain-specific nucleotide methods such as 'transcribe', 'translate', and even 'reverse_complement'.\n",
    "\n",
    "Our dna variable has been identified as a chain of DNA nucleotides, so performing a transcription will give us a new Seq, this time made up of RNA nucleotides, exactly the kind of replacement we want!"
   ]
  },
  {
   "cell_type": "code",
   "execution_count": 12,
   "metadata": {
    "collapsed": false
   },
   "outputs": [
    {
     "name": "stdout",
     "output_type": "stream",
     "text": [
      "GAUGGAACUUGACUACGUAAAUU\n"
     ]
    }
   ],
   "source": [
    "rna = dna.transcribe()\n",
    "\n",
    "print(rna)"
   ]
  },
  {
   "cell_type": "markdown",
   "metadata": {},
   "source": [
    "Note that the transcribe method returns another sequence, with the correct alphabet associated!:"
   ]
  },
  {
   "cell_type": "code",
   "execution_count": 13,
   "metadata": {
    "collapsed": false
   },
   "outputs": [
    {
     "data": {
      "text/plain": [
       "Seq('GAUGGAACUUGACUACGUAAAUU', RNAAlphabet())"
      ]
     },
     "execution_count": 13,
     "metadata": {},
     "output_type": "execute_result"
    }
   ],
   "source": [
    "rna"
   ]
  }
 ],
 "metadata": {
  "kernelspec": {
   "display_name": "Python 3",
   "language": "python",
   "name": "python3"
  },
  "language_info": {
   "codemirror_mode": {
    "name": "ipython",
    "version": 3
   },
   "file_extension": ".py",
   "mimetype": "text/x-python",
   "name": "python",
   "nbconvert_exporter": "python",
   "pygments_lexer": "ipython3",
   "version": "3.5.2"
  }
 },
 "nbformat": 4,
 "nbformat_minor": 0
}
